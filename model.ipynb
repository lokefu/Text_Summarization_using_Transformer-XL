{
 "cells": [
  {
   "cell_type": "code",
   "execution_count": 1,
   "metadata": {},
   "outputs": [
    {
     "name": "stderr",
     "output_type": "stream",
     "text": [
      "/Library/Frameworks/Python.framework/Versions/3.10/lib/python3.10/site-packages/tqdm/auto.py:21: TqdmWarning: IProgress not found. Please update jupyter and ipywidgets. See https://ipywidgets.readthedocs.io/en/stable/user_install.html\n",
      "  from .autonotebook import tqdm as notebook_tqdm\n"
     ]
    },
    {
     "name": "stdout",
     "output_type": "stream",
     "text": [
      "Loading Transformer-XL model and tokenizer...\n"
     ]
    },
    {
     "name": "stderr",
     "output_type": "stream",
     "text": [
      "Some weights of the model checkpoint at transfo-xl-wt103 were not used when initializing TransfoXLModel: ['crit.out_projs.0', 'crit.out_layers.3.weight', 'crit.out_layers.1.weight', 'crit.out_projs.3', 'crit.out_layers.3.bias', 'crit.out_layers.1.bias', 'crit.out_projs.2', 'crit.cluster_weight', 'crit.out_layers.0.bias', 'crit.out_layers.2.bias', 'crit.cluster_bias', 'crit.out_layers.0.weight', 'crit.out_projs.1', 'crit.out_layers.2.weight']\n",
      "- This IS expected if you are initializing TransfoXLModel from the checkpoint of a model trained on another task or with another architecture (e.g. initializing a BertForSequenceClassification model from a BertForPreTraining model).\n",
      "- This IS NOT expected if you are initializing TransfoXLModel from the checkpoint of a model that you expect to be exactly identical (initializing a BertForSequenceClassification model from a BertForSequenceClassification model).\n"
     ]
    },
    {
     "data": {
      "text/plain": [
       "TransfoXLModel(\n",
       "  (word_emb): AdaptiveEmbedding(\n",
       "    (emb_layers): ModuleList(\n",
       "      (0): Embedding(20000, 1024)\n",
       "      (1): Embedding(20000, 256)\n",
       "      (2): Embedding(160000, 64)\n",
       "      (3): Embedding(67735, 16)\n",
       "    )\n",
       "    (emb_projs): ParameterList(\n",
       "        (0): Parameter containing: [torch.float32 of size 1024x1024]\n",
       "        (1): Parameter containing: [torch.float32 of size 1024x256]\n",
       "        (2): Parameter containing: [torch.float32 of size 1024x64]\n",
       "        (3): Parameter containing: [torch.float32 of size 1024x16]\n",
       "    )\n",
       "  )\n",
       "  (drop): Dropout(p=0.1, inplace=False)\n",
       "  (layers): ModuleList(\n",
       "    (0-17): 18 x RelPartialLearnableDecoderLayer(\n",
       "      (dec_attn): RelPartialLearnableMultiHeadAttn(\n",
       "        (qkv_net): Linear(in_features=1024, out_features=3072, bias=False)\n",
       "        (drop): Dropout(p=0.1, inplace=False)\n",
       "        (dropatt): Dropout(p=0.0, inplace=False)\n",
       "        (o_net): Linear(in_features=1024, out_features=1024, bias=False)\n",
       "        (layer_norm): LayerNorm((1024,), eps=1e-05, elementwise_affine=True)\n",
       "        (r_net): Linear(in_features=1024, out_features=1024, bias=False)\n",
       "      )\n",
       "      (pos_ff): PositionwiseFF(\n",
       "        (CoreNet): Sequential(\n",
       "          (0): Linear(in_features=1024, out_features=4096, bias=True)\n",
       "          (1): ReLU(inplace=True)\n",
       "          (2): Dropout(p=0.1, inplace=False)\n",
       "          (3): Linear(in_features=4096, out_features=1024, bias=True)\n",
       "          (4): Dropout(p=0.1, inplace=False)\n",
       "        )\n",
       "        (layer_norm): LayerNorm((1024,), eps=1e-05, elementwise_affine=True)\n",
       "      )\n",
       "    )\n",
       "  )\n",
       "  (pos_emb): PositionalEmbedding()\n",
       ")"
      ]
     },
     "execution_count": 1,
     "metadata": {},
     "output_type": "execute_result"
    }
   ],
   "source": [
    "import torch\n",
    "import torch.utils.data as data\n",
    "from tokenization_transfo_xl import TransfoXLTokenizer\n",
    "from modeling_transfo_xl import TransfoXLModel\n",
    "from transformers import AdamW\n",
    "from transformers import get_linear_schedule_with_warmup\n",
    "from torch.utils.data import DataLoader\n",
    "\n",
    "\n",
    "# Load the pre-trained Transformer-XL model and tokenizer\n",
    "print(\"Loading Transformer-XL model and tokenizer...\")\n",
    "device = torch.device(\"cuda\" if torch.cuda.is_available() else \"cpu\")\n",
    "tokenizer = TransfoXLTokenizer.from_pretrained('transfo-xl-wt103')\n",
    "model = TransfoXLModel.from_pretrained('transfo-xl-wt103', output_hidden_states=True, output_attentions=True)\n",
    "model.to(device)"
   ]
  },
  {
   "cell_type": "code",
   "execution_count": null,
   "metadata": {},
   "outputs": [],
   "source": [
    "# Load the CNN/Daily Mail news dataset\n",
    "print(\"Loading CNN/Daily Mail news dataset...\")\n",
    "train_dataset = torch.load('train_subset.pt')\n",
    "val_dataset = torch.load('val_subset.pt')\n",
    "\n",
    "\n",
    "# Set batch size and collate function \n",
    "batch_size = 1\n",
    "def collate_fn(batch):\n",
    "   \n",
    "    input_ids = torch.tensor([example['input_ids'] for example in batch])\n",
    "    attention_mask = torch.tensor([example['attention_mask'] for example in batch])\n",
    "    labels = torch.tensor([example['labels'] for example in batch])\n",
    "    return {'input_ids': input_ids.to(device), 'attention_mask': attention_mask.to(device), 'labels': labels.to(device)}\n",
    "\n",
    "\n",
    "# Create data loaders\n",
    "print(\"Creating data loaders...\")\n",
    "train_dataloader = DataLoader(train_dataset, batch_size=batch_size, shuffle=True,num_workers=0,collate_fn=collate_fn)\n",
    "val_dataloader = DataLoader(val_dataset, batch_size=batch_size)"
   ]
  },
  {
   "cell_type": "code",
   "execution_count": 7,
   "metadata": {},
   "outputs": [
    {
     "name": "stdout",
     "output_type": "stream",
     "text": [
      "Setting optimization parameters...\n",
      "Training epoch 0...\n"
     ]
    },
    {
     "name": "stderr",
     "output_type": "stream",
     "text": [
      "/var/folders/dz/v_5_syx13jj11dvwlmm856nw0000gn/T/ipykernel_21193/4130485922.py:18: UserWarning: To copy construct from a tensor, it is recommended to use sourceTensor.clone().detach() or sourceTensor.clone().detach().requires_grad_(True), rather than torch.tensor(sourceTensor).\n",
      "  input_ids = torch.tensor(batch['input_ids']).clone().detach().to(device)\n",
      "/var/folders/dz/v_5_syx13jj11dvwlmm856nw0000gn/T/ipykernel_21193/4130485922.py:19: UserWarning: To copy construct from a tensor, it is recommended to use sourceTensor.clone().detach() or sourceTensor.clone().detach().requires_grad_(True), rather than torch.tensor(sourceTensor).\n",
      "  attention_mask = torch.tensor(batch['attention_mask']).clone().detach().to(device)\n",
      "/var/folders/dz/v_5_syx13jj11dvwlmm856nw0000gn/T/ipykernel_21193/4130485922.py:20: UserWarning: To copy construct from a tensor, it is recommended to use sourceTensor.clone().detach() or sourceTensor.clone().detach().requires_grad_(True), rather than torch.tensor(sourceTensor).\n",
      "  labels = torch.tensor(batch['labels']).clone().detach().to(device)\n"
     ]
    },
    {
     "name": "stdout",
     "output_type": "stream",
     "text": [
      "Evaluating on validation set...\n"
     ]
    },
    {
     "name": "stderr",
     "output_type": "stream",
     "text": [
      "/var/folders/dz/v_5_syx13jj11dvwlmm856nw0000gn/T/ipykernel_21193/4130485922.py:58: UserWarning: To copy construct from a tensor, it is recommended to use sourceTensor.clone().detach() or sourceTensor.clone().detach().requires_grad_(True), rather than torch.tensor(sourceTensor).\n",
      "  input_ids = torch.tensor(input_ids).view(batch_size, -1)\n"
     ]
    },
    {
     "name": "stdout",
     "output_type": "stream",
     "text": [
      "Saving best checkpoint...\n",
      "Epoch 0: train loss = 0.035686977207660675, validation loss = 0.026330381631851196\n"
     ]
    }
   ],
   "source": [
    "\n",
    "# Set optimization parameters\n",
    "print(\"Setting optimization parameters...\")\n",
    "optimizer = AdamW(model.parameters(), lr=5e-5)\n",
    "scheduler = get_linear_schedule_with_warmup(optimizer, num_warmup_steps=1, num_training_steps=len(train_dataloader)*1) #100,10\n",
    "\n",
    "# Add model checkpoint saving\n",
    "best_val_loss = float('inf')\n",
    "for epoch in range(2): #3\n",
    "    print(f\"Training epoch {epoch}...\")\n",
    "    model.train()\n",
    "    total_loss = 0\n",
    "    num_batches = 0\n",
    "    for batch in train_dataloader:\n",
    "        #input_ids = torch.tensor(batch['input_ids']).to(device)\n",
    "        #attention_mask = torch.tensor(batch['attention_mask']).to(device)\n",
    "        #labels = torch.tensor(batch['labels']).to(device)\n",
    "\n",
    "        input_ids = torch.tensor(batch['input_ids']).clone().detach().to(device)\n",
    "        attention_mask = torch.tensor(batch['attention_mask']).clone().detach().to(device)\n",
    "        labels = torch.tensor(batch['labels']).clone().detach().to(device)\n",
    "\n",
    "        outputs = model(input_ids=input_ids)\n",
    "        last_hidden_state = outputs.last_hidden_state\n",
    "\n",
    "        # Generate the summary by taking the first 3 sentences of the input\n",
    "        summary_input = last_hidden_state[:, :3, :]\n",
    "        summary_output = last_hidden_state[:, :128, :].mean(dim=1) # Average pooling over the 128 tokens\n",
    "        loss = torch.mean(torch.square(summary_output - summary_input))\n",
    "\n",
    "        loss.backward()\n",
    "\n",
    "\n",
    "        optimizer.step()\n",
    "        scheduler.step()\n",
    "        optimizer.zero_grad()\n",
    "\n",
    "        total_loss += loss.item()\n",
    "        num_batches += 1\n",
    "\n",
    "    avg_train_loss = total_loss / num_batches\n",
    "\n",
    "    # Evaluate the model on the validation set\n",
    "    print(\"Evaluating on validation set...\")\n",
    "    model.eval()\n",
    "    total_val_loss = 0\n",
    "    num_val_batches = 0\n",
    "    with torch.no_grad():\n",
    "        for batch in val_dataloader:\n",
    "            #input_ids = torch.tensor(batch['input_ids']).to(device)\n",
    "            #attention_mask = torch.tensor(batch['attention_mask']).to(device)\n",
    "            #labels = torch.tensor(batch['labels']).to(device)\n",
    "\n",
    "            input_ids = torch.tensor(batch['input_ids']).clone().detach().to(device)\n",
    "            attention_mask = torch.tensor(batch['attention_mask']).clone().detach().to(device)\n",
    "            labels = torch.tensor(batch['labels']).clone().detach().to(device)\n",
    "\n",
    "            # Convert the batch_input_ids to a tensor and reshape it\n",
    "            input_ids = torch.tensor(input_ids).view(batch_size, -1)\n",
    "\n",
    "            outputs = model(input_ids=input_ids)\n",
    "            last_hidden_state = outputs.last_hidden_state\n",
    "\n",
    "            # Generate the summary by taking the first 3 sentences of the input\n",
    "            summary_input = last_hidden_state[:, :3, :]\n",
    "            summary_output = last_hidden_state[:, :128, :].mean(dim=1) # Average pooling over the 128 tokens\n",
    "            loss = torch.mean(torch.square(summary_output - summary_input))\n",
    "\n",
    "            total_val_loss += loss.item()\n",
    "            num_val_batches += 1\n",
    "\n",
    "        avg_val_loss = total_val_loss / num_val_batches\n",
    "\n",
    "        # Add early stopping and model checkpoint saving\n",
    "        if avg_val_loss < best_val_loss:\n",
    "            print(\"Saving best checkpoint...\")\n",
    "            best_val_loss = avg_val_loss\n",
    "            torch.save({\n",
    "                'epoch': epoch,\n",
    "                'model_state_dict': model.state_dict(),\n",
    "                'optimizer_state_dict': optimizer.state_dict(),\n",
    "                'scheduler_state_dict': scheduler.state_dict(),\n",
    "                'train_loss': avg_train_loss,\n",
    "                'val_loss': avg_val_loss\n",
    "            }, 'best_checkpoint.pt')\n",
    "            tokenizer.save_pretrained('best_checkpoint')\n",
    "        else:\n",
    "            break\n",
    "\n",
    "    print(f'Epoch {epoch}: train loss = {avg_train_loss}, validation loss = {avg_val_loss}')\n",
    "\n"
   ]
  },
  {
   "cell_type": "code",
   "execution_count": 5,
   "metadata": {},
   "outputs": [],
   "source": [
    "# Create a smaller subset of the training dataset\n",
    "#train_subset_indices = [i for i in range(500)]  # select the first 10 examples\n",
    "#train_subset = data.Subset(train_dataset, train_subset_indices)\n",
    "\n",
    "# Create a smaller subset of the validation dataset\n",
    "#val_subset_indices = [i for i in range(20)]  # select the first 5 examples\n",
    "#val_subset = data.Subset(val_dataset, val_subset_indices)\n",
    "\n",
    "# Save the subsets to separate .pt files\n",
    "#torch.save(train_subset, 'train_subset.pt')\n",
    "#torch.save(val_subset, 'val_subset.pt')"
   ]
  }
 ],
 "metadata": {
  "kernelspec": {
   "display_name": "Python 3",
   "language": "python",
   "name": "python3"
  },
  "language_info": {
   "codemirror_mode": {
    "name": "ipython",
    "version": 3
   },
   "file_extension": ".py",
   "mimetype": "text/x-python",
   "name": "python",
   "nbconvert_exporter": "python",
   "pygments_lexer": "ipython3",
   "version": "3.10.6"
  },
  "orig_nbformat": 4
 },
 "nbformat": 4,
 "nbformat_minor": 2
}
